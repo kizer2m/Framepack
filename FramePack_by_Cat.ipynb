{
  "nbformat": 4,
  "nbformat_minor": 0,
  "metadata": {
    "colab": {
      "provenance": [],
      "machine_shape": "hm",
      "gpuType": "L4",
      "authorship_tag": "ABX9TyOopUxPv6KRrHl2hdjrGsMs",
      "include_colab_link": true
    },
    "kernelspec": {
      "name": "python3",
      "display_name": "Python 3"
    },
    "language_info": {
      "name": "python"
    },
    "accelerator": "GPU"
  },
  "cells": [
    {
      "cell_type": "markdown",
      "metadata": {
        "id": "view-in-github",
        "colab_type": "text"
      },
      "source": [
        "<a href=\"https://colab.research.google.com/github/kizer2m/Framepack/blob/main/FramePack_by_Cat.ipynb\" target=\"_parent\"><img src=\"https://colab.research.google.com/assets/colab-badge.svg\" alt=\"Open In Colab\"/></a>"
      ]
    },
    {
      "cell_type": "markdown",
      "source": [
        "# **READ FIRST**\n",
        "\n",
        "The script creates a virtual environment on google collab and deletes it after disconnecting from google collab environment.\n",
        "Use a video card with at least 20 GB of video memory, such as L4.\n",
        "With a T4 card, generation may NOT succeed (but you can try :)).\n",
        "\n",
        "All generation results will be saved to FramePack_output on your GDrive, if the folder does not exist, the script will create it.\n",
        "\n",
        "**If you see pop-up WARNING message after first step, just click cancel and run second step - \"FramePack install\"**\n",
        "\n",
        "P.S. If you want to get a better result, uncheck - *\"Use TeaCache\"*, but the generation will be slower."
      ],
      "metadata": {
        "id": "lZBML9VO6kJw"
      }
    },
    {
      "cell_type": "code",
      "source": [
        "#@markdown #1. ENVIRONMENT SETUP AND INSTALLATION\n",
        "# ================== ENVIRONMENT SETUP AND INSTALLATION ==================\n",
        "# Install dependencies before any import to avoid runtime warnings\n",
        "# Install all required packages before any import\n",
        "!pip install torch torchvision torchaudio --index-url https://download.pytorch.org/whl/cu126\n",
        "!pip install -r https://raw.githubusercontent.com/kizer2m/Framepack/refs/heads/main/requirements.txt\n",
        "!pip install sageattention==1.0.6\n",
        "\n",
        "\n"
      ],
      "metadata": {
        "cellView": "form",
        "id": "O8pCcqXHFG_J"
      },
      "execution_count": null,
      "outputs": []
    },
    {
      "cell_type": "code",
      "source": [
        "#@markdown #2. FramePack install\n",
        "import threading\n",
        "import time\n",
        "import os\n",
        "import shutil\n",
        "from IPython.display import clear_output, Javascript\n",
        "import ipywidgets as widgets\n",
        "from google.colab import drive\n",
        "from google.colab import output\n",
        "\n",
        "output.enable_custom_widget_manager()\n",
        "display(Javascript('''google.colab.output.setIframeHeight(0, true, {maxHeight: 300})'''))\n",
        "\n",
        "# Mount Google Drive\n",
        "%cd /content\n",
        "drive.mount('/content/drive')\n",
        "\n",
        "# Clone FramePack repository\n",
        "!rm -rf FramePack\n",
        "!git clone https://github.com/lllyasviel/FramePack.git\n",
        "%cd /content/FramePack\n",
        "\n",
        "# Set up output directories\n",
        "src_dir = \"/content/FramePack/outputs\"\n",
        "dest_dir = \"/content/drive/MyDrive/FramePack_output\"\n",
        "os.makedirs(dest_dir, exist_ok=True)\n",
        "\n",
        "print(f\"✅ Environment ready. All results will be saved to: {dest_dir}\")\n",
        "\n",
        "# Function to watch and copy files in real time\n",
        "def watch_and_copy(interval=5):\n",
        "    copied_files = set()\n",
        "    while True:\n",
        "        if os.path.exists(src_dir):\n",
        "            for file_name in os.listdir(src_dir):\n",
        "                src_file = os.path.join(src_dir, file_name)\n",
        "                dest_file = os.path.join(dest_dir, file_name)\n",
        "                if os.path.isfile(src_file) and file_name not in copied_files:\n",
        "                    shutil.copy2(src_file, dest_file)\n",
        "                    copied_files.add(file_name)\n",
        "                    print(f\"🟢 Copied: {file_name}\")\n",
        "        time.sleep(interval)\n",
        "\n",
        "# Start background watcher thread\n",
        "thread = threading.Thread(target=watch_and_copy, daemon=True)\n",
        "thread.start()\n",
        "\n",
        "# Launch FramePack with Gradio interface\n",
        "#!python demo_gradio.py --share\n",
        "!python demo_gradio_f1.py --share\n"
      ],
      "metadata": {
        "cellView": "form",
        "id": "cnl70gfZFw7a"
      },
      "execution_count": null,
      "outputs": []
    }
  ]
}