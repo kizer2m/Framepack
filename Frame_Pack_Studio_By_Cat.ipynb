{
  "nbformat": 4,
  "nbformat_minor": 0,
  "metadata": {
    "colab": {
      "provenance": [],
      "machine_shape": "hm",
      "gpuType": "L4",
      "authorship_tag": "ABX9TyPZiRGCzRKY4V70SfXXDaiH",
      "include_colab_link": true
    },
    "kernelspec": {
      "name": "python3",
      "display_name": "Python 3"
    },
    "language_info": {
      "name": "python"
    },
    "accelerator": "GPU"
  },
  "cells": [
    {
      "cell_type": "markdown",
      "metadata": {
        "id": "view-in-github",
        "colab_type": "text"
      },
      "source": [
        "<a href=\"https://colab.research.google.com/github/kizer2m/Framepack/blob/main/Frame_Pack_Studio_By_Cat.ipynb\" target=\"_parent\"><img src=\"https://colab.research.google.com/assets/colab-badge.svg\" alt=\"Open In Colab\"/></a>"
      ]
    },
    {
      "cell_type": "markdown",
      "source": [
        "# Collab notebook made from [Colin Urban](https://github.com/colinurbs) https://github.com/colinurbs/FramePack-Studio.git repository.\n",
        "\n",
        "Enjoy!\n",
        "\n"
      ],
      "metadata": {
        "id": "v3HIvYctX5r4"
      }
    },
    {
      "cell_type": "code",
      "execution_count": null,
      "metadata": {
        "cellView": "form",
        "id": "3N8JVj7SW8z2"
      },
      "outputs": [],
      "source": [
        "#@markdown # Frame Pack Studio install & Run.\n",
        "import threading\n",
        "import time\n",
        "import os\n",
        "import shutil\n",
        "from IPython.display import clear_output, Javascript\n",
        "import ipywidgets as widgets\n",
        "from google.colab import drive\n",
        "from google.colab import output\n",
        "\n",
        "output.enable_custom_widget_manager()\n",
        "display(Javascript('''google.colab.output.setIframeHeight(0, true, {maxHeight: 300})'''))\n",
        "\n",
        "# Mount Google Drive\n",
        "%cd /content\n",
        "drive.mount('/content/drive')\n",
        "\n",
        "# Clone FramePack repository\n",
        "!rm -rf FramePack-Studio\n",
        "!git clone https://github.com/colinurbs/FramePack-Studio.git\n",
        "%cd FramePack-Studio\n",
        "!pip install --quiet -r requirements.txt\n",
        "\n",
        "\n",
        "# Set up output directories\n",
        "src_dir = \"/content/FramePack-Studio/outputs\"\n",
        "dest_dir = \"/content/drive/MyDrive/FramePack-Studio_output\"\n",
        "os.makedirs(dest_dir, exist_ok=True)\n",
        "\n",
        "print(f\"✅ Environment ready. All results will be saved to: {dest_dir}\")\n",
        "\n",
        "# Function to watch and copy files in real time\n",
        "#def watch_and_copy(interval=5):\n",
        "#    copied_files = set()\n",
        "#    while True:\n",
        "#        if os.path.exists(src_dir):\n",
        "#            for file_name in os.listdir(src_dir):\n",
        "#                src_file = os.path.join(src_dir, file_name)\n",
        "#                dest_file = os.path.join(dest_dir, file_name)\n",
        "#                if os.path.isfile(src_file) and file_name not in copied_files:\n",
        "#                    shutil.copy2(src_file, dest_file)\n",
        "#                    copied_files.add(file_name)\n",
        "#                    print(f\"🟢 Copied: {file_name}\")\n",
        "#        time.sleep(interval)\n",
        "\n",
        "# Start background watcher thread\n",
        "#thread = threading.Thread(target=watch_and_copy, daemon=True)\n",
        "#thread.start()\n",
        "\n",
        "# Launch FramePack with Gradio interface\n",
        "!python studio.py --share\n",
        "# Copy all results to GDrive\n",
        "!cp -av /content/FramePack-Studio/outputs/*.mp4 /content/drive/MyDrive/FramePack-Studio_output"
      ]
    }
  ]
}